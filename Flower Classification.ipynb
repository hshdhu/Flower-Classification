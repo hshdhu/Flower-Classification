{
 "cells": [
  {
   "cell_type": "code",
   "execution_count": 1,
   "metadata": {},
   "outputs": [
    {
     "name": "stdout",
     "output_type": "stream",
     "text": [
      "Tổng số loài hoa: 102\n",
      "1: train 28, valid 4, test 8\n",
      "10: train 31, valid 4, test 10\n",
      "100: train 34, valid 4, test 11\n",
      "101: train 40, valid 5, test 13\n",
      "102: train 33, valid 4, test 11\n",
      "11: train 60, valid 8, test 19\n",
      "12: train 60, valid 8, test 19\n",
      "13: train 34, valid 4, test 11\n",
      "14: train 33, valid 4, test 11\n",
      "15: train 34, valid 4, test 11\n",
      "16: train 28, valid 4, test 9\n",
      "17: train 59, valid 8, test 18\n",
      "18: train 57, valid 8, test 17\n",
      "19: train 34, valid 4, test 11\n",
      "2: train 42, valid 6, test 12\n",
      "20: train 39, valid 5, test 12\n",
      "21: train 28, valid 4, test 8\n",
      "22: train 41, valid 5, test 13\n",
      "23: train 63, valid 9, test 19\n",
      "24: train 29, valid 4, test 9\n",
      "25: train 28, valid 4, test 9\n",
      "26: train 28, valid 4, test 9\n",
      "27: train 28, valid 4, test 8\n",
      "28: train 46, valid 6, test 14\n",
      "29: train 54, valid 7, test 17\n",
      "3: train 28, valid 4, test 8\n",
      "30: train 59, valid 8, test 18\n",
      "31: train 36, valid 5, test 11\n",
      "32: train 31, valid 4, test 10\n",
      "33: train 32, valid 4, test 10\n",
      "34: train 28, valid 4, test 8\n",
      "35: train 30, valid 4, test 9\n",
      "36: train 52, valid 7, test 16\n",
      "37: train 75, valid 10, test 23\n",
      "38: train 39, valid 5, test 12\n",
      "39: train 28, valid 4, test 9\n",
      "4: train 39, valid 5, test 12\n",
      "40: train 46, valid 6, test 15\n",
      "41: train 88, valid 12, test 27\n",
      "42: train 41, valid 5, test 13\n",
      "43: train 91, valid 13, test 26\n",
      "44: train 65, valid 9, test 19\n",
      "45: train 28, valid 4, test 8\n",
      "46: train 137, valid 19, test 40\n",
      "47: train 46, valid 6, test 15\n",
      "48: train 49, valid 7, test 15\n",
      "49: train 34, valid 4, test 11\n",
      "5: train 45, valid 6, test 14\n",
      "50: train 64, valid 9, test 19\n",
      "51: train 180, valid 25, test 53\n",
      "52: train 59, valid 8, test 18\n",
      "53: train 65, valid 9, test 19\n",
      "54: train 42, valid 6, test 13\n",
      "55: train 49, valid 7, test 15\n",
      "56: train 76, valid 10, test 23\n",
      "57: train 46, valid 6, test 15\n",
      "58: train 79, valid 11, test 24\n",
      "59: train 46, valid 6, test 15\n",
      "6: train 31, valid 4, test 10\n",
      "60: train 76, valid 10, test 23\n",
      "61: train 35, valid 5, test 10\n",
      "62: train 38, valid 5, test 12\n",
      "63: train 37, valid 5, test 12\n",
      "64: train 36, valid 5, test 11\n",
      "65: train 71, valid 10, test 21\n",
      "66: train 42, valid 6, test 13\n",
      "67: train 29, valid 4, test 9\n",
      "68: train 37, valid 5, test 12\n",
      "69: train 37, valid 5, test 12\n",
      "7: train 28, valid 4, test 8\n",
      "70: train 43, valid 6, test 13\n",
      "71: train 54, valid 7, test 17\n",
      "72: train 67, valid 9, test 20\n",
      "73: train 135, valid 19, test 40\n",
      "74: train 119, valid 17, test 35\n",
      "75: train 84, valid 12, test 24\n",
      "76: train 74, valid 10, test 23\n",
      "77: train 175, valid 25, test 51\n",
      "78: train 95, valid 13, test 29\n",
      "79: train 28, valid 4, test 9\n",
      "8: train 59, valid 8, test 18\n",
      "80: train 73, valid 10, test 22\n",
      "81: train 116, valid 16, test 34\n",
      "82: train 78, valid 11, test 23\n",
      "83: train 91, valid 13, test 27\n",
      "84: train 60, valid 8, test 18\n",
      "85: train 44, valid 6, test 13\n",
      "86: train 40, valid 5, test 13\n",
      "87: train 44, valid 6, test 13\n",
      "88: train 107, valid 15, test 32\n",
      "89: train 128, valid 18, test 38\n",
      "9: train 32, valid 4, test 10\n",
      "90: train 57, valid 8, test 17\n",
      "91: train 53, valid 7, test 16\n",
      "92: train 46, valid 6, test 14\n",
      "93: train 32, valid 4, test 10\n",
      "94: train 113, valid 16, test 33\n",
      "95: train 89, valid 12, test 27\n",
      "96: train 63, valid 9, test 19\n",
      "97: train 46, valid 6, test 14\n",
      "98: train 57, valid 8, test 17\n",
      "99: train 44, valid 6, test 13\n",
      "Chia tập dữ liệu xong, ready to rock that model training!\n"
     ]
    }
   ],
   "source": [
    "import os\n",
    "import shutil\n",
    "import random\n",
    "\n",
    "source_dir = 'data'\n",
    "\n",
    "data_dir = 'flowers'\n",
    "train_dir = os.path.join(data_dir, 'train')\n",
    "valid_dir = os.path.join(data_dir, 'valid')\n",
    "test_dir = os.path.join(data_dir, 'test')\n",
    "\n",
    "# Ratios that speak truth\n",
    "train_ratio = 0.7\n",
    "valid_ratio = 0.1\n",
    "test_ratio = 0.2\n",
    "\n",
    "os.makedirs(train_dir, exist_ok=True)\n",
    "os.makedirs(valid_dir, exist_ok=True)\n",
    "os.makedirs(test_dir, exist_ok=True)\n",
    "\n",
    "class_folders = [f for f in os.listdir(source_dir) if os.path.isdir(os.path.join(source_dir, f))]\n",
    "\n",
    "print(f'Tổng số loài hoa: {len(class_folders)}')\n",
    "\n",
    "for c in class_folders:\n",
    "    os.makedirs(os.path.join(train_dir, c), exist_ok=True)\n",
    "    os.makedirs(os.path.join(valid_dir, c), exist_ok=True)\n",
    "    os.makedirs(os.path.join(test_dir, c), exist_ok=True)\n",
    "\n",
    "for c in class_folders:\n",
    "    class_path = os.path.join(source_dir, c)\n",
    "    images = [f for f in os.listdir(class_path) if os.path.isfile(os.path.join(class_path, f))]\n",
    "    random.shuffle(images)\n",
    "\n",
    "    n = len(images)\n",
    "    train_end = int(n * train_ratio)\n",
    "    valid_end = train_end + int(n * valid_ratio)\n",
    "\n",
    "    train_images = images[:train_end]\n",
    "    valid_images = images[train_end:valid_end]\n",
    "    test_images = images[valid_end:]\n",
    "\n",
    "    for img in train_images:\n",
    "        shutil.copy(os.path.join(class_path, img), os.path.join(train_dir, c, img))\n",
    "\n",
    "    for img in valid_images:\n",
    "        shutil.copy(os.path.join(class_path, img), os.path.join(valid_dir, c, img))\n",
    "\n",
    "    for img in test_images:\n",
    "        shutil.copy(os.path.join(class_path, img), os.path.join(test_dir, c, img))\n",
    "\n",
    "    print(f'{c}: train {len(train_images)}, valid {len(valid_images)}, test {len(test_images)}')\n",
    "\n",
    "print(\"Chia tập dữ liệu xong, ready to rock that model training!\")"
   ]
  },
  {
   "cell_type": "code",
   "execution_count": 1,
   "metadata": {
    "colab": {
     "base_uri": "https://localhost:8080/"
    },
    "executionInfo": {
     "elapsed": 44437,
     "status": "ok",
     "timestamp": 1744288370938,
     "user": {
      "displayName": "Hoài Nam Lý",
      "userId": "00728691753620285504"
     },
     "user_tz": -420
    },
    "id": "EcXORa1Eqnrq",
    "outputId": "0161e2de-b825-492a-931d-f9e5c25cdef9"
   },
   "outputs": [],
   "source": [
    "data_dir = 'flowers'\n",
    "train_dir = data_dir + '/train' \n",
    "valid_dir = data_dir + '/valid'\n",
    "test_dir = data_dir + '/test'"
   ]
  },
  {
   "cell_type": "code",
   "execution_count": 2,
   "metadata": {
    "executionInfo": {
     "elapsed": 16,
     "status": "ok",
     "timestamp": 1744291248659,
     "user": {
      "displayName": "Hoài Nam Lý",
      "userId": "00728691753620285504"
     },
     "user_tz": -420
    },
    "id": "_QdW4xTfzYic"
   },
   "outputs": [],
   "source": [
    "# Jupyter notebook settings\n",
    "%matplotlib inline \n",
    "%config InlineBackend.figure_format = 'retina'\n",
    "\n",
    "import matplotlib.pyplot as plt\n",
    "\n",
    "import torch\n",
    "import numpy as np\n",
    "import pandas as pd\n",
    "import time\n",
    "import json\n",
    "\n",
    "from collections import OrderedDict\n",
    "from PIL import Image\n",
    "import seaborn as sns\n",
    "\n",
    "from torchvision import datasets, models, transforms\n",
    "\n",
    "import torch.nn as nn\n",
    "import torch.nn.functional as F\n",
    "import torch.optim as optim\n",
    "import torch.utils.data"
   ]
  },
  {
   "cell_type": "code",
   "execution_count": 3,
   "metadata": {
    "executionInfo": {
     "elapsed": 11029,
     "status": "ok",
     "timestamp": 1744291262101,
     "user": {
      "displayName": "Hoài Nam Lý",
      "userId": "00728691753620285504"
     },
     "user_tz": -420
    },
    "id": "ocVYrsklzGNy"
   },
   "outputs": [],
   "source": [
    "# TODO: Define your transforms for the training, validation, and testing sets\n",
    "train_data_transforms = transforms.Compose ([transforms.RandomRotation (30),\n",
    "                                             transforms.RandomResizedCrop (224),\n",
    "                                             transforms.RandomHorizontalFlip (),\n",
    "                                             transforms.ToTensor (),\n",
    "                                             transforms.Normalize ([0.485, 0.456, 0.406],[0.229, 0.224, 0.225])\n",
    "                                            ])\n",
    "\n",
    "valid_data_transforms = transforms.Compose ([transforms.Resize (255),\n",
    "                                             transforms.CenterCrop (224),\n",
    "                                             transforms.ToTensor (),\n",
    "                                             transforms.Normalize ([0.485, 0.456, 0.406],[0.229, 0.224, 0.225])\n",
    "                                            ])\n",
    "\n",
    "test_data_transforms = transforms.Compose ([transforms.Resize (255),\n",
    "                                             transforms.CenterCrop (224),\n",
    "                                             transforms.ToTensor (),\n",
    "                                             transforms.Normalize ([0.485, 0.456, 0.406],[0.229, 0.224, 0.225])\n",
    "                                            ])\n",
    "\n",
    "# TODO: Load the datasets with ImageFolder\n",
    "train_image_datasets = datasets.ImageFolder (train_dir, transform = train_data_transforms)\n",
    "valid_image_datasets = datasets.ImageFolder (valid_dir, transform = valid_data_transforms)\n",
    "test_image_datasets = datasets.ImageFolder (test_dir, transform = test_data_transforms)\n",
    "\n",
    "# TODO: Using the image datasets and the trainforms, define the dataloaders\n",
    "train_loader = torch.utils.data.DataLoader(train_image_datasets, batch_size = 64, shuffle = True)\n",
    "valid_loader = torch.utils.data.DataLoader(valid_image_datasets, batch_size = 64, shuffle = True)\n",
    "test_loader = torch.utils.data.DataLoader(test_image_datasets, batch_size = 64, shuffle = True)"
   ]
  },
  {
   "cell_type": "code",
   "execution_count": 4,
   "metadata": {
    "executionInfo": {
     "elapsed": 2,
     "status": "ok",
     "timestamp": 1744297262705,
     "user": {
      "displayName": "Hoài Nam Lý",
      "userId": "00728691753620285504"
     },
     "user_tz": -420
    },
    "id": "wmcxgsRT1qjk"
   },
   "outputs": [],
   "source": [
    "def load_model(hidden_units):\n",
    "    model = models.vgg16(pretrained=True)\n",
    "    for param in model.parameters():\n",
    "        param.requires_grad = False\n",
    "\n",
    "    if hidden_units:\n",
    "        classifier = nn.Sequential(OrderedDict([\n",
    "            ('fc1', nn.Linear(25088, 4096)),\n",
    "            ('relu1', nn.ReLU()),\n",
    "            ('dropout1', nn.Dropout(p=0.1)),\n",
    "            ('fc2', nn.Linear(4096, hidden_units)),\n",
    "            ('relu2', nn.ReLU()),\n",
    "            ('dropout2', nn.Dropout(p=0.1)),\n",
    "            ('fc3', nn.Linear(hidden_units, 102)),\n",
    "            ('output', nn.LogSoftmax(dim=1))\n",
    "        ]))\n",
    "    else:  # if hidden_units not given\n",
    "        classifier = nn.Sequential(OrderedDict([\n",
    "            ('fc1', nn.Linear(25088, 4096)),\n",
    "            ('relu1', nn.ReLU()),\n",
    "            ('dropout1', nn.Dropout(p=0.1)),\n",
    "            ('fc2', nn.Linear(4096, 2048)),\n",
    "            ('relu2', nn.ReLU()),\n",
    "            ('dropout2', nn.Dropout(p=0.1)),\n",
    "            ('fc3', nn.Linear(2048, 102)),\n",
    "            ('output', nn.LogSoftmax(dim=1))\n",
    "        ]))\n",
    "\n",
    "    # Replace the classifier in vgg16 model\n",
    "    model.classifier = classifier\n",
    "    return model\n"
   ]
  },
  {
   "cell_type": "code",
   "execution_count": 5,
   "metadata": {
    "colab": {
     "base_uri": "https://localhost:8080/"
    },
    "executionInfo": {
     "elapsed": 10,
     "status": "ok",
     "timestamp": 1744297508523,
     "user": {
      "displayName": "Hoài Nam Lý",
      "userId": "00728691753620285504"
     },
     "user_tz": -420
    },
    "id": "EDea41_9OU9l",
    "outputId": "834d8c1d-425e-4e56-e83b-d47c738f89ec"
   },
   "outputs": [
    {
     "name": "stdout",
     "output_type": "stream",
     "text": [
      "Using device: cpu\n"
     ]
    }
   ],
   "source": [
    "# chạy thư viện cần thiết và chỉnh các tham số ở đây\n",
    "\n",
    "epochs = 10  # Bạn có thể thay đổi số epoch\n",
    "learning_rate = 0.001\n",
    "hidden_units = 2048\n",
    "device = torch.device(\"cuda\" if torch.cuda.is_available() else \"cpu\")\n",
    "print(f\"Using device: {device}\")"
   ]
  },
  {
   "cell_type": "code",
   "execution_count": null,
   "metadata": {
    "colab": {
     "base_uri": "https://localhost:8080/"
    },
    "executionInfo": {
     "elapsed": 3780,
     "status": "ok",
     "timestamp": 1744297904077,
     "user": {
      "displayName": "Hoài Nam Lý",
      "userId": "00728691753620285504"
     },
     "user_tz": -420
    },
    "id": "BJ6IWkjQ3qx7",
    "outputId": "37990f61-8fa3-4948-874e-4f94bb79bec1"
   },
   "outputs": [],
   "source": [
    "# khởi chạy model\n",
    "model = load_model(hidden_units)\n",
    "model.to(device)\n",
    "\n",
    "# Định nghĩa các hàm Loss và Optimizer\n",
    "criterion = nn.NLLLoss()  # Hàm mất mát cho phân loại nhiều lớp\n",
    "optimizer = optim.Adam(model.classifier.parameters(), lr=learning_rate) # Sử dụng Adam optimizer"
   ]
  },
  {
   "cell_type": "code",
   "execution_count": 7,
   "metadata": {},
   "outputs": [],
   "source": [
    "# Gán ánh xạ class_to_idx từ dataset vào model để dùng khi dự đoán\n",
    "model.class_to_idx = train_image_datasets.class_to_idx"
   ]
  },
  {
   "cell_type": "code",
   "execution_count": 8,
   "metadata": {
    "executionInfo": {
     "elapsed": 7,
     "status": "ok",
     "timestamp": 1744297904086,
     "user": {
      "displayName": "Hoài Nam Lý",
      "userId": "00728691753620285504"
     },
     "user_tz": -420
    },
    "id": "44RJuYVP2QG5"
   },
   "outputs": [],
   "source": [
    "#Hàm để Train model\n",
    "def train_model(model, train_loader, valid_loader, criterion, optimizer, epochs):\n",
    "    train_losses = []\n",
    "    train_accuracies = []\n",
    "    valid_accuracies = []\n",
    "    best_accuracy = 0.0\n",
    "\n",
    "    for epoch in range(epochs):\n",
    "        model.train()  # Đặt mô hình vào chế độ huấn luyện\n",
    "        running_loss = 0.0\n",
    "        correct = 0\n",
    "        total = 0\n",
    "\n",
    "        # Training loop\n",
    "        for inputs, labels in train_loader:\n",
    "            inputs, labels = inputs.to(device), labels.to(device)\n",
    "\n",
    "            optimizer.zero_grad()  # Đặt gradient về 0 trước khi tính toán gradient mới\n",
    "\n",
    "            # Forward pass\n",
    "            outputs = model(inputs)\n",
    "            loss = criterion(outputs, labels)\n",
    "\n",
    "            # Backward pass và cập nhật tham số mô hình\n",
    "            loss.backward()\n",
    "            optimizer.step()\n",
    "\n",
    "            running_loss += loss.item()\n",
    "\n",
    "            # Tính độ chính xác\n",
    "            _, predicted = torch.max(outputs, 1)\n",
    "            correct += (predicted == labels).sum().item()\n",
    "            total += labels.size(0)\n",
    "\n",
    "        # Tính toán loss và accuracy trên training set\n",
    "        train_loss = running_loss / len(train_loader)\n",
    "        train_accuracy = 100 * correct / total\n",
    "\n",
    "        # Validation loop\n",
    "        model.eval()  # Đặt mô hình vào chế độ evaluation\n",
    "        correct = 0\n",
    "        total = 0\n",
    "        with torch.no_grad():  # Không tính gradient khi đánh giá trên validation set\n",
    "            for inputs, labels in valid_loader:\n",
    "                inputs, labels = inputs.to(device), labels.to(device)\n",
    "\n",
    "                outputs = model(inputs)\n",
    "\n",
    "                _, predicted = torch.max(outputs, 1)\n",
    "                correct += (predicted == labels).sum().item()\n",
    "                total += labels.size(0)\n",
    "\n",
    "        valid_accuracy = 100 * correct / total\n",
    "\n",
    "        print(f\"Epoch {epoch+1}/{epochs} - Train Loss: {train_loss:.4f}, Train Accuracy: {train_accuracy:.2f}%\")\n",
    "        print(f\"Validation Accuracy: {valid_accuracy:.2f}%\")\n",
    "\n",
    "         # Lưu giá trị vào các danh sách để vẽ đồ thị\n",
    "        train_losses.append(train_loss)\n",
    "        train_accuracies.append(train_accuracy)\n",
    "        valid_accuracies.append(valid_accuracy)\n",
    "\n",
    "        # Lưu mô hình nếu độ chính xác validation cao hơn\n",
    "        if valid_accuracy > best_accuracy:\n",
    "            best_accuracy = valid_accuracy\n",
    "            \n",
    "            torch.save(model.state_dict(), 'best_model.pth')  # Lưu mô hình tốt nhất\n",
    "\n",
    "    # Vẽ đồ thị\n",
    "    # Biểu đồ loss\n",
    "    plt.figure(figsize=(6, 5))\n",
    "    plt.plot(range(1, epochs+1), train_losses, label='Train Loss', color='blue')\n",
    "    plt.title('Train Loss vs Epochs')\n",
    "    plt.xlabel('Epochs')\n",
    "    plt.ylabel('Loss')\n",
    "    plt.grid(True)\n",
    "    plt.show()\n",
    "\n",
    "    # Biểu đồ accuracy\n",
    "    plt.figure(figsize=(6, 5))\n",
    "    plt.plot(range(1, epochs+1), train_accuracies, label='Train Accuracy', color='green')\n",
    "    plt.plot(range(1, epochs+1), valid_accuracies, label='Validation Accuracy', color='red')\n",
    "    plt.title('Train and Validation Accuracy vs Epochs')\n",
    "    plt.xlabel('Epochs')\n",
    "    plt.ylabel('Accuracy (%)')\n",
    "    plt.grid(True)\n",
    "    plt.legend()\n",
    "    plt.show()\n",
    "\n",
    "    print(\"Training complete.\")"
   ]
  },
  {
   "cell_type": "code",
   "execution_count": null,
   "metadata": {
    "id": "NwYxy5SjQVT3"
   },
   "outputs": [],
   "source": [
    "train_model(model, train_loader, valid_loader, criterion, optimizer, epochs)"
   ]
  },
  {
   "cell_type": "markdown",
   "metadata": {},
   "source": [
    "Test model bằng phương pháp Hold-out"
   ]
  },
  {
   "cell_type": "code",
   "execution_count": 10,
   "metadata": {
    "executionInfo": {
     "elapsed": 35,
     "status": "ok",
     "timestamp": 1744297747082,
     "user": {
      "displayName": "Hoài Nam Lý",
      "userId": "00728691753620285504"
     },
     "user_tz": -420
    },
    "id": "T_kHLpiPPis0"
   },
   "outputs": [],
   "source": [
    "def test_model(model, test_loader):\n",
    "    model.eval()  # Đặt mô hình vào chế độ evaluation\n",
    "    correct = 0\n",
    "    total = 0\n",
    "    with torch.no_grad():  # Không tính gradient khi đánh giá trên test set\n",
    "        for inputs, labels in test_loader:\n",
    "            inputs, labels = inputs.to(device), labels.to(device)\n",
    "\n",
    "            outputs = model(inputs)\n",
    "\n",
    "            _, predicted = torch.max(outputs, 1)\n",
    "            correct += (predicted == labels).sum().item()\n",
    "            total += labels.size(0)\n",
    "\n",
    "    test_accuracy = 100 * correct / total\n",
    "    print(f\"Test Accuracy: {test_accuracy:.2f}%\")"
   ]
  },
  {
   "cell_type": "code",
   "execution_count": 11,
   "metadata": {},
   "outputs": [
    {
     "name": "stdout",
     "output_type": "stream",
     "text": [
      "Test Accuracy: 88.65%\n"
     ]
    }
   ],
   "source": [
    "test_model(model,test_loader)"
   ]
  },
  {
   "cell_type": "code",
   "execution_count": 12,
   "metadata": {},
   "outputs": [],
   "source": [
    "import matplotlib.pyplot as plt\n",
    "import torchvision\n",
    "\n",
    "def imshow(img, title=None):\n",
    "    # img: tensor image, chuẩn hóa về dạng [0,1] nếu cần\n",
    "    img = img.cpu().numpy().transpose((1, 2, 0))  # chuyển từ [C,H,W] sang [H,W,C]\n",
    "    # Nếu ảnh được chuẩn hóa, bạn cần hồi lại chuẩn hóa ở đây (ví dụ: mean/std)\n",
    "    plt.imshow(img)\n",
    "    if title:\n",
    "        plt.title(title)\n",
    "    plt.axis('off')\n",
    "    plt.show()\n",
    "\n",
    "def test_model(model, test_loader):\n",
    "    model.eval()\n",
    "    correct = 0\n",
    "    total = 0\n",
    "    incorrect_images = []\n",
    "    incorrect_labels = []\n",
    "    incorrect_preds = []\n",
    "    with torch.no_grad():\n",
    "        for inputs, labels in test_loader:\n",
    "            inputs, labels = inputs.to(device), labels.to(device)\n",
    "\n",
    "            outputs = model(inputs)\n",
    "            _, predicted = torch.max(outputs, 1)\n",
    "\n",
    "            # Tính đúng/sai\n",
    "            correct += (predicted == labels).sum().item()\n",
    "            total += labels.size(0)\n",
    "\n",
    "            # Lấy các ảnh dự đoán sai\n",
    "            for i in range(len(labels)):\n",
    "                if predicted[i] != labels[i]:\n",
    "                    incorrect_images.append(inputs[i].cpu())\n",
    "                    incorrect_labels.append(labels[i].cpu().item())\n",
    "                    incorrect_preds.append(predicted[i].cpu().item())\n",
    "\n",
    "    test_accuracy = 100 * correct / total\n",
    "    print(f\"Test Accuracy: {test_accuracy:.2f}%\")\n",
    "\n",
    "    # In ra một số ảnh dự đoán sai (ví dụ 5 ảnh)\n",
    "    n_show = min(5, len(incorrect_images))\n",
    "    for i in range(n_show):\n",
    "        title = f\"True: {incorrect_labels[i]}, Pred: {incorrect_preds[i]}\"\n",
    "        imshow(incorrect_images[i], title=title)\n"
   ]
  },
  {
   "cell_type": "code",
   "execution_count": 13,
   "metadata": {
    "executionInfo": {
     "elapsed": 6177,
     "status": "ok",
     "timestamp": 1744297774251,
     "user": {
      "displayName": "Hoài Nam Lý",
      "userId": "00728691753620285504"
     },
     "user_tz": -420
    },
    "id": "tbE0ZtBJP3aJ"
   },
   "outputs": [],
   "source": [
    "torch.save(model.state_dict(), 'best_model_final.pth')"
   ]
  },
  {
   "cell_type": "code",
   "execution_count": 14,
   "metadata": {},
   "outputs": [],
   "source": [
    "# Tải mô hình đã lưu\n",
    "# model.load_state_dict(torch.load('best_model2.pth'))"
   ]
  },
  {
   "cell_type": "code",
   "execution_count": 15,
   "metadata": {
    "id": "BjfwXlX3P9o6"
   },
   "outputs": [],
   "source": [
    "# test_model(model, test_loader)"
   ]
  },
  {
   "cell_type": "code",
   "execution_count": 16,
   "metadata": {},
   "outputs": [
    {
     "data": {
      "text/plain": [
       "{'21': 'fire lily',\n",
       " '3': 'canterbury bells',\n",
       " '45': 'bolero deep blue',\n",
       " '1': 'pink primrose',\n",
       " '34': 'mexican aster',\n",
       " '27': 'prince of wales feathers',\n",
       " '7': 'moon orchid',\n",
       " '16': 'globe-flower',\n",
       " '25': 'grape hyacinth',\n",
       " '26': 'corn poppy',\n",
       " '79': 'toad lily',\n",
       " '39': 'siam tulip',\n",
       " '24': 'red ginger',\n",
       " '67': 'spring crocus',\n",
       " '35': 'alpine sea holly',\n",
       " '32': 'garden phlox',\n",
       " '10': 'globe thistle',\n",
       " '6': 'tiger lily',\n",
       " '93': 'ball moss',\n",
       " '33': 'love in the mist',\n",
       " '9': 'monkshood',\n",
       " '102': 'blackberry lily',\n",
       " '14': 'spear thistle',\n",
       " '19': 'balloon flower',\n",
       " '100': 'blanket flower',\n",
       " '13': 'king protea',\n",
       " '49': 'oxeye daisy',\n",
       " '15': 'yellow iris',\n",
       " '61': 'cautleya spicata',\n",
       " '31': 'carnation',\n",
       " '64': 'silverbush',\n",
       " '68': 'bearded iris',\n",
       " '63': 'black-eyed susan',\n",
       " '69': 'windflower',\n",
       " '62': 'japanese anemone',\n",
       " '20': 'giant white arum lily',\n",
       " '38': 'great masterwort',\n",
       " '4': 'sweet pea',\n",
       " '86': 'tree mallow',\n",
       " '101': 'trumpet creeper',\n",
       " '42': 'daffodil',\n",
       " '22': 'pincushion flower',\n",
       " '2': 'hard-leaved pocket orchid',\n",
       " '54': 'sunflower',\n",
       " '66': 'osteospermum',\n",
       " '70': 'tree poppy',\n",
       " '85': 'desert-rose',\n",
       " '99': 'bromelia',\n",
       " '87': 'magnolia',\n",
       " '5': 'english marigold',\n",
       " '92': 'bee balm',\n",
       " '28': 'stemless gentian',\n",
       " '97': 'mallow',\n",
       " '57': 'gaura',\n",
       " '40': 'lenten rose',\n",
       " '47': 'marigold',\n",
       " '59': 'orange dahlia',\n",
       " '48': 'buttercup',\n",
       " '55': 'pelargonium',\n",
       " '36': 'ruby-lipped cattleya',\n",
       " '91': 'hippeastrum',\n",
       " '29': 'artichoke',\n",
       " '71': 'gazania',\n",
       " '90': 'canna lily',\n",
       " '18': 'peruvian lily',\n",
       " '98': 'mexican petunia',\n",
       " '8': 'bird of paradise',\n",
       " '30': 'sweet william',\n",
       " '17': 'purple coneflower',\n",
       " '52': 'wild pansy',\n",
       " '84': 'columbine',\n",
       " '12': \"colt's foot\",\n",
       " '11': 'snapdragon',\n",
       " '96': 'camellia',\n",
       " '23': 'fritillary',\n",
       " '50': 'common dandelion',\n",
       " '44': 'poinsettia',\n",
       " '53': 'primula',\n",
       " '72': 'azalea',\n",
       " '65': 'californian poppy',\n",
       " '80': 'anthurium',\n",
       " '76': 'morning glory',\n",
       " '37': 'cape flower',\n",
       " '56': 'bishop of llandaff',\n",
       " '60': 'pink-yellow dahlia',\n",
       " '82': 'clematis',\n",
       " '58': 'geranium',\n",
       " '75': 'thorn apple',\n",
       " '41': 'barbeton daisy',\n",
       " '95': 'bougainvillea',\n",
       " '43': 'sword lily',\n",
       " '83': 'hibiscus',\n",
       " '78': 'lotus lotus',\n",
       " '88': 'cyclamen',\n",
       " '94': 'foxglove',\n",
       " '81': 'frangipani',\n",
       " '74': 'rose',\n",
       " '89': 'watercress',\n",
       " '73': 'water lily',\n",
       " '46': 'wallflower',\n",
       " '77': 'passion flower',\n",
       " '51': 'petunia'}"
      ]
     },
     "execution_count": 16,
     "metadata": {},
     "output_type": "execute_result"
    }
   ],
   "source": [
    "with open('cat_to_name.json', 'r') as f:\n",
    "  cat_to_name = json.load(f)\n",
    "len (cat_to_name)\n",
    "cat_to_name"
   ]
  }
 ],
 "metadata": {
  "colab": {
   "authorship_tag": "ABX9TyPyLqh6QNp6+SQMChOeq/t0",
   "provenance": []
  },
  "kernelspec": {
   "display_name": "Python 3",
   "name": "python3"
  },
  "language_info": {
   "codemirror_mode": {
    "name": "ipython",
    "version": 3
   },
   "file_extension": ".py",
   "mimetype": "text/x-python",
   "name": "python",
   "nbconvert_exporter": "python",
   "pygments_lexer": "ipython3",
   "version": "3.13.0"
  }
 },
 "nbformat": 4,
 "nbformat_minor": 0
}
